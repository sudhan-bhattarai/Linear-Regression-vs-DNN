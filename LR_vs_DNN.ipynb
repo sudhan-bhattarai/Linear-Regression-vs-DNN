{
  "nbformat": 4,
  "nbformat_minor": 0,
  "metadata": {
    "kernelspec": {
      "display_name": "Python 3",
      "language": "python",
      "name": "python3"
    },
    "language_info": {
      "codemirror_mode": {
        "name": "ipython",
        "version": 3
      },
      "file_extension": ".py",
      "mimetype": "text/x-python",
      "name": "python",
      "nbconvert_exporter": "python",
      "pygments_lexer": "ipython3",
      "version": "3.7.6"
    },
    "colab": {
      "name": "EN577_Sudhan_Bhattarai_Research_Project (1).ipynb",
      "provenance": []
    }
  },
  "cells": [
    {
      "cell_type": "markdown",
      "metadata": {
        "id": "Nxq3Gr2lwat2",
        "colab_type": "text"
      },
      "source": [
        "### Import libraries"
      ]
    },
    {
      "cell_type": "code",
      "metadata": {
        "id": "80o5gWQLwat5",
        "colab_type": "code",
        "colab": {}
      },
      "source": [
        "import pandas as pd\n",
        "import numpy as np\n",
        "import matplotlib.pyplot as plt\n",
        "from sklearn.model_selection import train_test_split\n",
        "from sklearn.linear_model import LinearRegression\n",
        "from keras import Sequential, Model, optimizers\n",
        "from keras.layers import add, Dense, Input, Dropout\n",
        "from keras.losses import *\n",
        "from keras.callbacks import EarlyStopping\n",
        "from sklearn.model_selection import cross_val_predict, cross_val_score\n",
        "from sklearn.metrics import r2_score\n",
        "from sklearn.metrics import mean_squared_error"
      ],
      "execution_count": 0,
      "outputs": []
    },
    {
      "cell_type": "markdown",
      "metadata": {
        "id": "MTY74hFUwat-",
        "colab_type": "text"
      },
      "source": [
        "### Load data"
      ]
    },
    {
      "cell_type": "code",
      "metadata": {
        "id": "OSDlUaEny6lJ",
        "colab_type": "code",
        "outputId": "73cbac12-36b5-4813-bb32-774d0f3094b8",
        "colab": {
          "resources": {
            "http://localhost:8080/nbextensions/google.colab/files.js": {
              "data": "Ly8gQ29weXJpZ2h0IDIwMTcgR29vZ2xlIExMQwovLwovLyBMaWNlbnNlZCB1bmRlciB0aGUgQXBhY2hlIExpY2Vuc2UsIFZlcnNpb24gMi4wICh0aGUgIkxpY2Vuc2UiKTsKLy8geW91IG1heSBub3QgdXNlIHRoaXMgZmlsZSBleGNlcHQgaW4gY29tcGxpYW5jZSB3aXRoIHRoZSBMaWNlbnNlLgovLyBZb3UgbWF5IG9idGFpbiBhIGNvcHkgb2YgdGhlIExpY2Vuc2UgYXQKLy8KLy8gICAgICBodHRwOi8vd3d3LmFwYWNoZS5vcmcvbGljZW5zZXMvTElDRU5TRS0yLjAKLy8KLy8gVW5sZXNzIHJlcXVpcmVkIGJ5IGFwcGxpY2FibGUgbGF3IG9yIGFncmVlZCB0byBpbiB3cml0aW5nLCBzb2Z0d2FyZQovLyBkaXN0cmlidXRlZCB1bmRlciB0aGUgTGljZW5zZSBpcyBkaXN0cmlidXRlZCBvbiBhbiAiQVMgSVMiIEJBU0lTLAovLyBXSVRIT1VUIFdBUlJBTlRJRVMgT1IgQ09ORElUSU9OUyBPRiBBTlkgS0lORCwgZWl0aGVyIGV4cHJlc3Mgb3IgaW1wbGllZC4KLy8gU2VlIHRoZSBMaWNlbnNlIGZvciB0aGUgc3BlY2lmaWMgbGFuZ3VhZ2UgZ292ZXJuaW5nIHBlcm1pc3Npb25zIGFuZAovLyBsaW1pdGF0aW9ucyB1bmRlciB0aGUgTGljZW5zZS4KCi8qKgogKiBAZmlsZW92ZXJ2aWV3IEhlbHBlcnMgZm9yIGdvb2dsZS5jb2xhYiBQeXRob24gbW9kdWxlLgogKi8KKGZ1bmN0aW9uKHNjb3BlKSB7CmZ1bmN0aW9uIHNwYW4odGV4dCwgc3R5bGVBdHRyaWJ1dGVzID0ge30pIHsKICBjb25zdCBlbGVtZW50ID0gZG9jdW1lbnQuY3JlYXRlRWxlbWVudCgnc3BhbicpOwogIGVsZW1lbnQudGV4dENvbnRlbnQgPSB0ZXh0OwogIGZvciAoY29uc3Qga2V5IG9mIE9iamVjdC5rZXlzKHN0eWxlQXR0cmlidXRlcykpIHsKICAgIGVsZW1lbnQuc3R5bGVba2V5XSA9IHN0eWxlQXR0cmlidXRlc1trZXldOwogIH0KICByZXR1cm4gZWxlbWVudDsKfQoKLy8gTWF4IG51bWJlciBvZiBieXRlcyB3aGljaCB3aWxsIGJlIHVwbG9hZGVkIGF0IGEgdGltZS4KY29uc3QgTUFYX1BBWUxPQURfU0laRSA9IDEwMCAqIDEwMjQ7Ci8vIE1heCBhbW91bnQgb2YgdGltZSB0byBibG9jayB3YWl0aW5nIGZvciB0aGUgdXNlci4KY29uc3QgRklMRV9DSEFOR0VfVElNRU9VVF9NUyA9IDMwICogMTAwMDsKCmZ1bmN0aW9uIF91cGxvYWRGaWxlcyhpbnB1dElkLCBvdXRwdXRJZCkgewogIGNvbnN0IHN0ZXBzID0gdXBsb2FkRmlsZXNTdGVwKGlucHV0SWQsIG91dHB1dElkKTsKICBjb25zdCBvdXRwdXRFbGVtZW50ID0gZG9jdW1lbnQuZ2V0RWxlbWVudEJ5SWQob3V0cHV0SWQpOwogIC8vIENhY2hlIHN0ZXBzIG9uIHRoZSBvdXRwdXRFbGVtZW50IHRvIG1ha2UgaXQgYXZhaWxhYmxlIGZvciB0aGUgbmV4dCBjYWxsCiAgLy8gdG8gdXBsb2FkRmlsZXNDb250aW51ZSBmcm9tIFB5dGhvbi4KICBvdXRwdXRFbGVtZW50LnN0ZXBzID0gc3RlcHM7CgogIHJldHVybiBfdXBsb2FkRmlsZXNDb250aW51ZShvdXRwdXRJZCk7Cn0KCi8vIFRoaXMgaXMgcm91Z2hseSBhbiBhc3luYyBnZW5lcmF0b3IgKG5vdCBzdXBwb3J0ZWQgaW4gdGhlIGJyb3dzZXIgeWV0KSwKLy8gd2hlcmUgdGhlcmUgYXJlIG11bHRpcGxlIGFzeW5jaHJvbm91cyBzdGVwcyBhbmQgdGhlIFB5dGhvbiBzaWRlIGlzIGdvaW5nCi8vIHRvIHBvbGwgZm9yIGNvbXBsZXRpb24gb2YgZWFjaCBzdGVwLgovLyBUaGlzIHVzZXMgYSBQcm9taXNlIHRvIGJsb2NrIHRoZSBweXRob24gc2lkZSBvbiBjb21wbGV0aW9uIG9mIGVhY2ggc3RlcCwKLy8gdGhlbiBwYXNzZXMgdGhlIHJlc3VsdCBvZiB0aGUgcHJldmlvdXMgc3RlcCBhcyB0aGUgaW5wdXQgdG8gdGhlIG5leHQgc3RlcC4KZnVuY3Rpb24gX3VwbG9hZEZpbGVzQ29udGludWUob3V0cHV0SWQpIHsKICBjb25zdCBvdXRwdXRFbGVtZW50ID0gZG9jdW1lbnQuZ2V0RWxlbWVudEJ5SWQob3V0cHV0SWQpOwogIGNvbnN0IHN0ZXBzID0gb3V0cHV0RWxlbWVudC5zdGVwczsKCiAgY29uc3QgbmV4dCA9IHN0ZXBzLm5leHQob3V0cHV0RWxlbWVudC5sYXN0UHJvbWlzZVZhbHVlKTsKICByZXR1cm4gUHJvbWlzZS5yZXNvbHZlKG5leHQudmFsdWUucHJvbWlzZSkudGhlbigodmFsdWUpID0+IHsKICAgIC8vIENhY2hlIHRoZSBsYXN0IHByb21pc2UgdmFsdWUgdG8gbWFrZSBpdCBhdmFpbGFibGUgdG8gdGhlIG5leHQKICAgIC8vIHN0ZXAgb2YgdGhlIGdlbmVyYXRvci4KICAgIG91dHB1dEVsZW1lbnQubGFzdFByb21pc2VWYWx1ZSA9IHZhbHVlOwogICAgcmV0dXJuIG5leHQudmFsdWUucmVzcG9uc2U7CiAgfSk7Cn0KCi8qKgogKiBHZW5lcmF0b3IgZnVuY3Rpb24gd2hpY2ggaXMgY2FsbGVkIGJldHdlZW4gZWFjaCBhc3luYyBzdGVwIG9mIHRoZSB1cGxvYWQKICogcHJvY2Vzcy4KICogQHBhcmFtIHtzdHJpbmd9IGlucHV0SWQgRWxlbWVudCBJRCBvZiB0aGUgaW5wdXQgZmlsZSBwaWNrZXIgZWxlbWVudC4KICogQHBhcmFtIHtzdHJpbmd9IG91dHB1dElkIEVsZW1lbnQgSUQgb2YgdGhlIG91dHB1dCBkaXNwbGF5LgogKiBAcmV0dXJuIHshSXRlcmFibGU8IU9iamVjdD59IEl0ZXJhYmxlIG9mIG5leHQgc3RlcHMuCiAqLwpmdW5jdGlvbiogdXBsb2FkRmlsZXNTdGVwKGlucHV0SWQsIG91dHB1dElkKSB7CiAgY29uc3QgaW5wdXRFbGVtZW50ID0gZG9jdW1lbnQuZ2V0RWxlbWVudEJ5SWQoaW5wdXRJZCk7CiAgaW5wdXRFbGVtZW50LmRpc2FibGVkID0gZmFsc2U7CgogIGNvbnN0IG91dHB1dEVsZW1lbnQgPSBkb2N1bWVudC5nZXRFbGVtZW50QnlJZChvdXRwdXRJZCk7CiAgb3V0cHV0RWxlbWVudC5pbm5lckhUTUwgPSAnJzsKCiAgY29uc3QgcGlja2VkUHJvbWlzZSA9IG5ldyBQcm9taXNlKChyZXNvbHZlKSA9PiB7CiAgICBpbnB1dEVsZW1lbnQuYWRkRXZlbnRMaXN0ZW5lcignY2hhbmdlJywgKGUpID0+IHsKICAgICAgcmVzb2x2ZShlLnRhcmdldC5maWxlcyk7CiAgICB9KTsKICB9KTsKCiAgY29uc3QgY2FuY2VsID0gZG9jdW1lbnQuY3JlYXRlRWxlbWVudCgnYnV0dG9uJyk7CiAgaW5wdXRFbGVtZW50LnBhcmVudEVsZW1lbnQuYXBwZW5kQ2hpbGQoY2FuY2VsKTsKICBjYW5jZWwudGV4dENvbnRlbnQgPSAnQ2FuY2VsIHVwbG9hZCc7CiAgY29uc3QgY2FuY2VsUHJvbWlzZSA9IG5ldyBQcm9taXNlKChyZXNvbHZlKSA9PiB7CiAgICBjYW5jZWwub25jbGljayA9ICgpID0+IHsKICAgICAgcmVzb2x2ZShudWxsKTsKICAgIH07CiAgfSk7CgogIC8vIENhbmNlbCB1cGxvYWQgaWYgdXNlciBoYXNuJ3QgcGlja2VkIGFueXRoaW5nIGluIHRpbWVvdXQuCiAgY29uc3QgdGltZW91dFByb21pc2UgPSBuZXcgUHJvbWlzZSgocmVzb2x2ZSkgPT4gewogICAgc2V0VGltZW91dCgoKSA9PiB7CiAgICAgIHJlc29sdmUobnVsbCk7CiAgICB9LCBGSUxFX0NIQU5HRV9USU1FT1VUX01TKTsKICB9KTsKCiAgLy8gV2FpdCBmb3IgdGhlIHVzZXIgdG8gcGljayB0aGUgZmlsZXMuCiAgY29uc3QgZmlsZXMgPSB5aWVsZCB7CiAgICBwcm9taXNlOiBQcm9taXNlLnJhY2UoW3BpY2tlZFByb21pc2UsIHRpbWVvdXRQcm9taXNlLCBjYW5jZWxQcm9taXNlXSksCiAgICByZXNwb25zZTogewogICAgICBhY3Rpb246ICdzdGFydGluZycsCiAgICB9CiAgfTsKCiAgaWYgKCFmaWxlcykgewogICAgcmV0dXJuIHsKICAgICAgcmVzcG9uc2U6IHsKICAgICAgICBhY3Rpb246ICdjb21wbGV0ZScsCiAgICAgIH0KICAgIH07CiAgfQoKICBjYW5jZWwucmVtb3ZlKCk7CgogIC8vIERpc2FibGUgdGhlIGlucHV0IGVsZW1lbnQgc2luY2UgZnVydGhlciBwaWNrcyBhcmUgbm90IGFsbG93ZWQuCiAgaW5wdXRFbGVtZW50LmRpc2FibGVkID0gdHJ1ZTsKCiAgZm9yIChjb25zdCBmaWxlIG9mIGZpbGVzKSB7CiAgICBjb25zdCBsaSA9IGRvY3VtZW50LmNyZWF0ZUVsZW1lbnQoJ2xpJyk7CiAgICBsaS5hcHBlbmQoc3BhbihmaWxlLm5hbWUsIHtmb250V2VpZ2h0OiAnYm9sZCd9KSk7CiAgICBsaS5hcHBlbmQoc3BhbigKICAgICAgICBgKCR7ZmlsZS50eXBlIHx8ICduL2EnfSkgLSAke2ZpbGUuc2l6ZX0gYnl0ZXMsIGAgKwogICAgICAgIGBsYXN0IG1vZGlmaWVkOiAkewogICAgICAgICAgICBmaWxlLmxhc3RNb2RpZmllZERhdGUgPyBmaWxlLmxhc3RNb2RpZmllZERhdGUudG9Mb2NhbGVEYXRlU3RyaW5nKCkgOgogICAgICAgICAgICAgICAgICAgICAgICAgICAgICAgICAgICAnbi9hJ30gLSBgKSk7CiAgICBjb25zdCBwZXJjZW50ID0gc3BhbignMCUgZG9uZScpOwogICAgbGkuYXBwZW5kQ2hpbGQocGVyY2VudCk7CgogICAgb3V0cHV0RWxlbWVudC5hcHBlbmRDaGlsZChsaSk7CgogICAgY29uc3QgZmlsZURhdGFQcm9taXNlID0gbmV3IFByb21pc2UoKHJlc29sdmUpID0+IHsKICAgICAgY29uc3QgcmVhZGVyID0gbmV3IEZpbGVSZWFkZXIoKTsKICAgICAgcmVhZGVyLm9ubG9hZCA9IChlKSA9PiB7CiAgICAgICAgcmVzb2x2ZShlLnRhcmdldC5yZXN1bHQpOwogICAgICB9OwogICAgICByZWFkZXIucmVhZEFzQXJyYXlCdWZmZXIoZmlsZSk7CiAgICB9KTsKICAgIC8vIFdhaXQgZm9yIHRoZSBkYXRhIHRvIGJlIHJlYWR5LgogICAgbGV0IGZpbGVEYXRhID0geWllbGQgewogICAgICBwcm9taXNlOiBmaWxlRGF0YVByb21pc2UsCiAgICAgIHJlc3BvbnNlOiB7CiAgICAgICAgYWN0aW9uOiAnY29udGludWUnLAogICAgICB9CiAgICB9OwoKICAgIC8vIFVzZSBhIGNodW5rZWQgc2VuZGluZyB0byBhdm9pZCBtZXNzYWdlIHNpemUgbGltaXRzLiBTZWUgYi82MjExNTY2MC4KICAgIGxldCBwb3NpdGlvbiA9IDA7CiAgICB3aGlsZSAocG9zaXRpb24gPCBmaWxlRGF0YS5ieXRlTGVuZ3RoKSB7CiAgICAgIGNvbnN0IGxlbmd0aCA9IE1hdGgubWluKGZpbGVEYXRhLmJ5dGVMZW5ndGggLSBwb3NpdGlvbiwgTUFYX1BBWUxPQURfU0laRSk7CiAgICAgIGNvbnN0IGNodW5rID0gbmV3IFVpbnQ4QXJyYXkoZmlsZURhdGEsIHBvc2l0aW9uLCBsZW5ndGgpOwogICAgICBwb3NpdGlvbiArPSBsZW5ndGg7CgogICAgICBjb25zdCBiYXNlNjQgPSBidG9hKFN0cmluZy5mcm9tQ2hhckNvZGUuYXBwbHkobnVsbCwgY2h1bmspKTsKICAgICAgeWllbGQgewogICAgICAgIHJlc3BvbnNlOiB7CiAgICAgICAgICBhY3Rpb246ICdhcHBlbmQnLAogICAgICAgICAgZmlsZTogZmlsZS5uYW1lLAogICAgICAgICAgZGF0YTogYmFzZTY0LAogICAgICAgIH0sCiAgICAgIH07CiAgICAgIHBlcmNlbnQudGV4dENvbnRlbnQgPQogICAgICAgICAgYCR7TWF0aC5yb3VuZCgocG9zaXRpb24gLyBmaWxlRGF0YS5ieXRlTGVuZ3RoKSAqIDEwMCl9JSBkb25lYDsKICAgIH0KICB9CgogIC8vIEFsbCBkb25lLgogIHlpZWxkIHsKICAgIHJlc3BvbnNlOiB7CiAgICAgIGFjdGlvbjogJ2NvbXBsZXRlJywKICAgIH0KICB9Owp9CgpzY29wZS5nb29nbGUgPSBzY29wZS5nb29nbGUgfHwge307CnNjb3BlLmdvb2dsZS5jb2xhYiA9IHNjb3BlLmdvb2dsZS5jb2xhYiB8fCB7fTsKc2NvcGUuZ29vZ2xlLmNvbGFiLl9maWxlcyA9IHsKICBfdXBsb2FkRmlsZXMsCiAgX3VwbG9hZEZpbGVzQ29udGludWUsCn07Cn0pKHNlbGYpOwo=",
              "ok": true,
              "headers": [
                [
                  "content-type",
                  "application/javascript"
                ]
              ],
              "status": 200,
              "status_text": ""
            }
          },
          "base_uri": "https://localhost:8080/",
          "height": 74
        }
      },
      "source": [
        "from google.colab import files\n",
        "uploaded = files.upload()"
      ],
      "execution_count": 26,
      "outputs": [
        {
          "output_type": "display_data",
          "data": {
            "text/html": [
              "\n",
              "     <input type=\"file\" id=\"files-64b5907e-c53d-43cd-954b-8cef52c3f808\" name=\"files[]\" multiple disabled />\n",
              "     <output id=\"result-64b5907e-c53d-43cd-954b-8cef52c3f808\">\n",
              "      Upload widget is only available when the cell has been executed in the\n",
              "      current browser session. Please rerun this cell to enable.\n",
              "      </output>\n",
              "      <script src=\"/nbextensions/google.colab/files.js\"></script> "
            ],
            "text/plain": [
              "<IPython.core.display.HTML object>"
            ]
          },
          "metadata": {
            "tags": []
          }
        },
        {
          "output_type": "stream",
          "text": [
            "Saving Adult_Care_Data.csv to Adult_Care_Data (1).csv\n"
          ],
          "name": "stdout"
        }
      ]
    },
    {
      "cell_type": "code",
      "metadata": {
        "id": "XacnBZr-wat_",
        "colab_type": "code",
        "outputId": "4667ce41-7481-44bc-93fa-3b496d5301db",
        "colab": {
          "base_uri": "https://localhost:8080/",
          "height": 648
        }
      },
      "source": [
        "data = pd.read_csv('Adult_Care_Data.csv')\n",
        "df = data.drop(['Reporting Year','Reporting Quarter','County','Reporting Organization','Reporting Organization ID'], 1)\n",
        "print('Features:')\n",
        "for col in df.columns:\n",
        "    print(col)\n",
        "print('\\nSize of data:',df.shape)\n",
        "print('\\nData types:\\n',df.dtypes)\n",
        "print('\\nNumeric data:')\n",
        "df.tail()"
      ],
      "execution_count": 27,
      "outputs": [
        {
          "output_type": "stream",
          "text": [
            "Features:\n",
            "Total Capacity (Certified)\n",
            "Beginning Census\n",
            "End Census\n",
            "Male Census\n",
            "Female Census\n",
            "# of Residents Age 66-80\n",
            "# of Residents  Age 81+\n",
            "Total Admissions\n",
            "Total Discharges\n",
            "\n",
            "Size of data: (3311, 9)\n",
            "\n",
            "Data types:\n",
            " Total Capacity (Certified)      int64\n",
            "Beginning Census              float64\n",
            "End Census                      int64\n",
            "Male Census                   float64\n",
            "Female Census                   int64\n",
            "# of Residents Age 66-80        int64\n",
            "# of Residents  Age 81+         int64\n",
            "Total Admissions              float64\n",
            "Total Discharges                int64\n",
            "dtype: object\n",
            "\n",
            "Numeric data:\n"
          ],
          "name": "stdout"
        },
        {
          "output_type": "execute_result",
          "data": {
            "text/html": [
              "<div>\n",
              "<style scoped>\n",
              "    .dataframe tbody tr th:only-of-type {\n",
              "        vertical-align: middle;\n",
              "    }\n",
              "\n",
              "    .dataframe tbody tr th {\n",
              "        vertical-align: top;\n",
              "    }\n",
              "\n",
              "    .dataframe thead th {\n",
              "        text-align: right;\n",
              "    }\n",
              "</style>\n",
              "<table border=\"1\" class=\"dataframe\">\n",
              "  <thead>\n",
              "    <tr style=\"text-align: right;\">\n",
              "      <th></th>\n",
              "      <th>Total Capacity (Certified)</th>\n",
              "      <th>Beginning Census</th>\n",
              "      <th>End Census</th>\n",
              "      <th>Male Census</th>\n",
              "      <th>Female Census</th>\n",
              "      <th># of Residents Age 66-80</th>\n",
              "      <th># of Residents  Age 81+</th>\n",
              "      <th>Total Admissions</th>\n",
              "      <th>Total Discharges</th>\n",
              "    </tr>\n",
              "  </thead>\n",
              "  <tbody>\n",
              "    <tr>\n",
              "      <th>3306</th>\n",
              "      <td>80</td>\n",
              "      <td>75.0</td>\n",
              "      <td>70</td>\n",
              "      <td>15.0</td>\n",
              "      <td>55</td>\n",
              "      <td>10</td>\n",
              "      <td>59</td>\n",
              "      <td>27.0</td>\n",
              "      <td>32</td>\n",
              "    </tr>\n",
              "    <tr>\n",
              "      <th>3307</th>\n",
              "      <td>120</td>\n",
              "      <td>91.0</td>\n",
              "      <td>87</td>\n",
              "      <td>28.0</td>\n",
              "      <td>59</td>\n",
              "      <td>31</td>\n",
              "      <td>48</td>\n",
              "      <td>55.0</td>\n",
              "      <td>58</td>\n",
              "    </tr>\n",
              "    <tr>\n",
              "      <th>3308</th>\n",
              "      <td>181</td>\n",
              "      <td>175.0</td>\n",
              "      <td>176</td>\n",
              "      <td>58.0</td>\n",
              "      <td>118</td>\n",
              "      <td>71</td>\n",
              "      <td>71</td>\n",
              "      <td>49.0</td>\n",
              "      <td>48</td>\n",
              "    </tr>\n",
              "    <tr>\n",
              "      <th>3309</th>\n",
              "      <td>60</td>\n",
              "      <td>43.0</td>\n",
              "      <td>56</td>\n",
              "      <td>18.0</td>\n",
              "      <td>38</td>\n",
              "      <td>8</td>\n",
              "      <td>48</td>\n",
              "      <td>30.0</td>\n",
              "      <td>24</td>\n",
              "    </tr>\n",
              "    <tr>\n",
              "      <th>3310</th>\n",
              "      <td>40</td>\n",
              "      <td>25.0</td>\n",
              "      <td>25</td>\n",
              "      <td>NaN</td>\n",
              "      <td>21</td>\n",
              "      <td>7</td>\n",
              "      <td>18</td>\n",
              "      <td>12.0</td>\n",
              "      <td>12</td>\n",
              "    </tr>\n",
              "  </tbody>\n",
              "</table>\n",
              "</div>"
            ],
            "text/plain": [
              "      Total Capacity (Certified)  ...  Total Discharges\n",
              "3306                          80  ...                32\n",
              "3307                         120  ...                58\n",
              "3308                         181  ...                48\n",
              "3309                          60  ...                24\n",
              "3310                          40  ...                12\n",
              "\n",
              "[5 rows x 9 columns]"
            ]
          },
          "metadata": {
            "tags": []
          },
          "execution_count": 27
        }
      ]
    },
    {
      "cell_type": "markdown",
      "metadata": {
        "id": "BwqpXAPowauE",
        "colab_type": "text"
      },
      "source": [
        "### Filling Missing Values"
      ]
    },
    {
      "cell_type": "code",
      "metadata": {
        "id": "GfH4SDW170BR",
        "colab_type": "code",
        "outputId": "09123005-bcac-455e-b01b-8a80c20926e4",
        "colab": {
          "base_uri": "https://localhost:8080/",
          "height": 184
        }
      },
      "source": [
        "df.isna().sum()"
      ],
      "execution_count": 28,
      "outputs": [
        {
          "output_type": "execute_result",
          "data": {
            "text/plain": [
              "Total Capacity (Certified)      0\n",
              "Beginning Census               10\n",
              "End Census                      0\n",
              "Male Census                    57\n",
              "Female Census                   0\n",
              "# of Residents Age 66-80        0\n",
              "# of Residents  Age 81+         0\n",
              "Total Admissions              282\n",
              "Total Discharges                0\n",
              "dtype: int64"
            ]
          },
          "metadata": {
            "tags": []
          },
          "execution_count": 28
        }
      ]
    },
    {
      "cell_type": "code",
      "metadata": {
        "id": "ziozKMehwauE",
        "colab_type": "code",
        "outputId": "ab3b4189-8a5c-461c-f1bb-8fb894bff7ab",
        "colab": {
          "base_uri": "https://localhost:8080/",
          "height": 213
        }
      },
      "source": [
        "for col in df.columns:\n",
        "    mean = round(df[col].mean())\n",
        "    df[col].fillna(mean,inplace = True)   # replacing missing data with mean of the feature\n",
        "df.tail()"
      ],
      "execution_count": 29,
      "outputs": [
        {
          "output_type": "execute_result",
          "data": {
            "text/html": [
              "<div>\n",
              "<style scoped>\n",
              "    .dataframe tbody tr th:only-of-type {\n",
              "        vertical-align: middle;\n",
              "    }\n",
              "\n",
              "    .dataframe tbody tr th {\n",
              "        vertical-align: top;\n",
              "    }\n",
              "\n",
              "    .dataframe thead th {\n",
              "        text-align: right;\n",
              "    }\n",
              "</style>\n",
              "<table border=\"1\" class=\"dataframe\">\n",
              "  <thead>\n",
              "    <tr style=\"text-align: right;\">\n",
              "      <th></th>\n",
              "      <th>Total Capacity (Certified)</th>\n",
              "      <th>Beginning Census</th>\n",
              "      <th>End Census</th>\n",
              "      <th>Male Census</th>\n",
              "      <th>Female Census</th>\n",
              "      <th># of Residents Age 66-80</th>\n",
              "      <th># of Residents  Age 81+</th>\n",
              "      <th>Total Admissions</th>\n",
              "      <th>Total Discharges</th>\n",
              "    </tr>\n",
              "  </thead>\n",
              "  <tbody>\n",
              "    <tr>\n",
              "      <th>3306</th>\n",
              "      <td>80</td>\n",
              "      <td>75.0</td>\n",
              "      <td>70</td>\n",
              "      <td>15.0</td>\n",
              "      <td>55</td>\n",
              "      <td>10</td>\n",
              "      <td>59</td>\n",
              "      <td>27.0</td>\n",
              "      <td>32</td>\n",
              "    </tr>\n",
              "    <tr>\n",
              "      <th>3307</th>\n",
              "      <td>120</td>\n",
              "      <td>91.0</td>\n",
              "      <td>87</td>\n",
              "      <td>28.0</td>\n",
              "      <td>59</td>\n",
              "      <td>31</td>\n",
              "      <td>48</td>\n",
              "      <td>55.0</td>\n",
              "      <td>58</td>\n",
              "    </tr>\n",
              "    <tr>\n",
              "      <th>3308</th>\n",
              "      <td>181</td>\n",
              "      <td>175.0</td>\n",
              "      <td>176</td>\n",
              "      <td>58.0</td>\n",
              "      <td>118</td>\n",
              "      <td>71</td>\n",
              "      <td>71</td>\n",
              "      <td>49.0</td>\n",
              "      <td>48</td>\n",
              "    </tr>\n",
              "    <tr>\n",
              "      <th>3309</th>\n",
              "      <td>60</td>\n",
              "      <td>43.0</td>\n",
              "      <td>56</td>\n",
              "      <td>18.0</td>\n",
              "      <td>38</td>\n",
              "      <td>8</td>\n",
              "      <td>48</td>\n",
              "      <td>30.0</td>\n",
              "      <td>24</td>\n",
              "    </tr>\n",
              "    <tr>\n",
              "      <th>3310</th>\n",
              "      <td>40</td>\n",
              "      <td>25.0</td>\n",
              "      <td>25</td>\n",
              "      <td>37.0</td>\n",
              "      <td>21</td>\n",
              "      <td>7</td>\n",
              "      <td>18</td>\n",
              "      <td>12.0</td>\n",
              "      <td>12</td>\n",
              "    </tr>\n",
              "  </tbody>\n",
              "</table>\n",
              "</div>"
            ],
            "text/plain": [
              "      Total Capacity (Certified)  ...  Total Discharges\n",
              "3306                          80  ...                32\n",
              "3307                         120  ...                58\n",
              "3308                         181  ...                48\n",
              "3309                          60  ...                24\n",
              "3310                          40  ...                12\n",
              "\n",
              "[5 rows x 9 columns]"
            ]
          },
          "metadata": {
            "tags": []
          },
          "execution_count": 29
        }
      ]
    },
    {
      "cell_type": "markdown",
      "metadata": {
        "id": "JAi4S_s8wauH",
        "colab_type": "text"
      },
      "source": [
        "### Frequency Plot"
      ]
    },
    {
      "cell_type": "code",
      "metadata": {
        "id": "y_3WXlqawauI",
        "colab_type": "code",
        "outputId": "b457fc45-63c4-40a7-a3e0-218bdbf6bd40",
        "colab": {
          "base_uri": "https://localhost:8080/",
          "height": 281
        }
      },
      "source": [
        "df.plot.hist(subplots = True, legend = False, layout = (3,3))\n",
        "print('Frequency plot:')"
      ],
      "execution_count": 30,
      "outputs": [
        {
          "output_type": "stream",
          "text": [
            "Frequency plot:\n"
          ],
          "name": "stdout"
        },
        {
          "output_type": "display_data",
          "data": {
            "image/png": "[encoded data removed]",
            "text/plain": [
              "<Figure size 432x288 with 9 Axes>"
            ]
          },
          "metadata": {
            "tags": [],
            "needs_background": "light"
          }
        }
      ]
    },
    {
      "cell_type": "markdown",
      "metadata": {
        "id": "jdxzFnKowauO",
        "colab_type": "text"
      },
      "source": [
        "### Input/output Data"
      ]
    },
    {
      "cell_type": "code",
      "metadata": {
        "id": "MWnwGiyywauP",
        "colab_type": "code",
        "outputId": "9474bba2-7ff0-4c95-c7ca-8ee0de93329d",
        "colab": {
          "base_uri": "https://localhost:8080/",
          "height": 50
        }
      },
      "source": [
        "X = df.drop('End Census',1)     ## input set is metrics except output feature ('End Census')\n",
        "Y = df['End Census']            ## output is 'End Census'\n",
        "print('Input Shape:',X.shape)\n",
        "print('Output shape:',Y.shape)"
      ],
      "execution_count": 31,
      "outputs": [
        {
          "output_type": "stream",
          "text": [
            "Input Shape: (3311, 8)\n",
            "Output shape: (3311,)\n"
          ],
          "name": "stdout"
        }
      ]
    },
    {
      "cell_type": "markdown",
      "metadata": {
        "id": "PwKjaiEawauU",
        "colab_type": "text"
      },
      "source": [
        "### Train/Test split"
      ]
    },
    {
      "cell_type": "code",
      "metadata": {
        "id": "Rkc8hxRZwauV",
        "colab_type": "code",
        "outputId": "bd4f7750-9ef5-4352-b648-dc9bfd1b38fb",
        "colab": {
          "base_uri": "https://localhost:8080/",
          "height": 329
        }
      },
      "source": [
        "x_train, x_test, y_train, y_test = train_test_split(X,Y,test_size = 0.2, random_state = 0)  # 20% test, 80% train\n",
        "\n",
        "plt.subplot(2,1,1)\n",
        "hist = plt.hist(y_train, bins = 'auto')\n",
        "plt.title('Frequency Plot Train/Test')\n",
        "plt.ylabel('Train Frequency')\n",
        "\n",
        "plt.subplot(2,1,2)\n",
        "plt.hist(y_test, bins = 'auto')\n",
        "plt.xlabel('End Census')\n",
        "plt.ylabel('Test Frequency')\n",
        "print('Training data size:',y_train.shape)\n",
        "print('Testing data size:',y_test.shape)"
      ],
      "execution_count": 32,
      "outputs": [
        {
          "output_type": "stream",
          "text": [
            "Training data size: (2648,)\n",
            "Testing data size: (663,)\n"
          ],
          "name": "stdout"
        },
        {
          "output_type": "display_data",
          "data": {
            "image/png": "[encoded data removed]",
            "text/plain": [
              "<Figure size 432x288 with 2 Axes>"
            ]
          },
          "metadata": {
            "tags": [],
            "needs_background": "light"
          }
        }
      ]
    },
    {
      "cell_type": "markdown",
      "metadata": {
        "id": "DSyEyIIHwaue",
        "colab_type": "text"
      },
      "source": [
        "### Least Square Linear Regression Model"
      ]
    },
    {
      "cell_type": "code",
      "metadata": {
        "id": "Y13zdvoSwauf",
        "colab_type": "code",
        "outputId": "9feb7e72-3d32-44cb-b4e1-6053b86ac498",
        "colab": {
          "base_uri": "https://localhost:8080/",
          "height": 398
        }
      },
      "source": [
        "lr = LinearRegression()\n",
        "yhat_cv = cross_val_predict(lr, x_train, y_train, cv = 4)  ## cross validation predictions, kFolds = 4\n",
        "score_cv = cross_val_score(lr, x_train, y_train, cv = 4)   ## cross validation score, kFOlds = 4\n",
        "R2 = r2_score(y_train, yhat_cv)\n",
        "MSE = mean_squared_error(y_train, yhat_cv)\n",
        "\n",
        "lr.fit(x_train, y_train)\n",
        "yhat_train = lr.predict(x_train)\n",
        "score_train = lr.score(x_train, y_train)\n",
        "plt.subplot(2,1,1)\n",
        "plt.scatter(x_train['Female Census'], y_train)\n",
        "plt.title('Female Census vs Y/Yhat')\n",
        "plt.ylabel('y')\n",
        "plt.subplot(2,1,2)\n",
        "plt.scatter(x_train['Female Census'], yhat_cv, color = 'g')\n",
        "plt.ylabel('yhat')\n",
        "print('R-Square:', R2)\n",
        "print('MSE:', MSE)\n",
        "print('cross validation rsquare score:\\n',score_cv)\n",
        "print('actual output:',y_train.values)\n",
        "print('predictions:',yhat_cv.astype('int'))\n",
        "print('train rquare score:',score_train)"
      ],
      "execution_count": 37,
      "outputs": [
        {
          "output_type": "stream",
          "text": [
            "R-Square: 0.9957862437517474\n",
            "MSE: 11.422333522417597\n",
            "cross validation rsquare score:\n",
            " [0.99469864 0.99655208 0.996062   0.9957349 ]\n",
            "actual output: [ 96 104 179 ... 134  67 131]\n",
            "predictions: [ 95 103 178 ... 133  64 131]\n",
            "train rquare score: 0.9958873065535047\n"
          ],
          "name": "stdout"
        },
        {
          "output_type": "display_data",
          "data": {
            "image/png": "[encoded data removed]",
            "text/plain": [
              "<Figure size 432x288 with 2 Axes>"
            ]
          },
          "metadata": {
            "tags": [],
            "needs_background": "light"
          }
        }
      ]
    },
    {
      "cell_type": "markdown",
      "metadata": {
        "id": "DdlEuTudwauk",
        "colab_type": "text"
      },
      "source": [
        "### Test Linear Regression Model"
      ]
    },
    {
      "cell_type": "code",
      "metadata": {
        "id": "Vpw3e7V2waul",
        "colab_type": "code",
        "outputId": "bbaf4b41-9e4b-40fd-8a0e-46588cfb0410",
        "colab": {
          "base_uri": "https://localhost:8080/",
          "height": 414
        }
      },
      "source": [
        "yhat_test = lr.predict(x_test)            # predictions on test data\n",
        "R2 = r2_score(y_test, yhat_test)\n",
        "MSE = mean_squared_error(y_test, yhat_test)\n",
        "print('R-Square:', R2)\n",
        "print('MSE:', MSE)\n",
        "test_score = lr.score(x_test, y_test)      # test score\n",
        "plt.subplot(2,1,1)\n",
        "plt.scatter(x_test['Total Admissions'], y_test)\n",
        "plt.title('Total Admissions vs Y/Yhat')\n",
        "plt.ylabel('y')\n",
        "plt.subplot(2,1,2)\n",
        "plt.scatter(x_test['Total Admissions'], yhat_test, color = 'g')\n",
        "plt.ylabel('yhat')\n",
        "print('test score:',test_score)\n",
        "print('actual output:',y_test.values[:5])\n",
        "print('predictions:',yhat_test.astype('int')[:5])\n",
        "print('Intercept:',lr.intercept_)\n",
        "print('Coefficients:',lr.coef_)"
      ],
      "execution_count": 39,
      "outputs": [
        {
          "output_type": "stream",
          "text": [
            "R-Square: 0.9928850484175785\n",
            "MSE: 18.640511518848502\n",
            "test score: 0.9928850484175785\n",
            "actual output: [ 47 251  34 114 168]\n",
            "predictions: [ 45 249  31 112 169]\n",
            "Intercept: -2.519214986059154\n",
            "Coefficients: [ 0.01983911  0.2865915   0.66237153  0.68329426  0.05121587  0.02724796\n",
            "  0.09807448 -0.0942564 ]\n"
          ],
          "name": "stdout"
        },
        {
          "output_type": "display_data",
          "data": {
            "image/png": "[encoded data removed]",
            "text/plain": [
              "<Figure size 432x288 with 2 Axes>"
            ]
          },
          "metadata": {
            "tags": [],
            "needs_background": "light"
          }
        }
      ]
    },
    {
      "cell_type": "markdown",
      "metadata": {
        "id": "mOc2hIzAwauq",
        "colab_type": "text"
      },
      "source": [
        "### 2 Layers Deep Neural Network"
      ]
    },
    {
      "cell_type": "code",
      "metadata": {
        "id": "8-4Emp3lwauq",
        "colab_type": "code",
        "outputId": "22a671ad-0a46-4542-9de7-7cf283213ea8",
        "colab": {
          "base_uri": "https://localhost:8080/",
          "height": 351
        }
      },
      "source": [
        "X = Input(shape = (8,))                            ## input layer with metrics size number_of_data_points * 8\n",
        "layer1 = Dense(1028, activation = 'relu')(X)        ## first dense layer\n",
        "drop1 = Dropout(0.2)(layer1)                        ## dropout to omit over fitting\n",
        "layer2 = Dense(512, activation = 'relu')(drop1)       ## 2nd dense\n",
        "drop2 = Dropout(0.1)(layer2)                          ## 2nd dropout\n",
        "layer3 = Dense(1, activation = 'linear')(drop2)\n",
        "model1 = Model(inputs = X, outputs = layer3)         #model\n",
        "model1.summary()"
      ],
      "execution_count": 56,
      "outputs": [
        {
          "output_type": "stream",
          "text": [
            "Model: \"model_2\"\n",
            "_________________________________________________________________\n",
            "Layer (type)                 Output Shape              Param #   \n",
            "=================================================================\n",
            "input_2 (InputLayer)         (None, 8)                 0         \n",
            "_________________________________________________________________\n",
            "dense_4 (Dense)              (None, 1028)              9252      \n",
            "_________________________________________________________________\n",
            "dropout_3 (Dropout)          (None, 1028)              0         \n",
            "_________________________________________________________________\n",
            "dense_5 (Dense)              (None, 512)               526848    \n",
            "_________________________________________________________________\n",
            "dropout_4 (Dropout)          (None, 512)               0         \n",
            "_________________________________________________________________\n",
            "dense_6 (Dense)              (None, 1)                 513       \n",
            "=================================================================\n",
            "Total params: 536,613\n",
            "Trainable params: 536,613\n",
            "Non-trainable params: 0\n",
            "_________________________________________________________________\n"
          ],
          "name": "stdout"
        }
      ]
    },
    {
      "cell_type": "code",
      "metadata": {
        "scrolled": true,
        "id": "0LOSkQ_pwauw",
        "colab_type": "code",
        "outputId": "f9370e4e-de43-49fa-8e2c-44c0f3feed7f",
        "colab": {
          "base_uri": "https://localhost:8080/",
          "height": 468
        }
      },
      "source": [
        "callback = EarlyStopping(monitor='val_loss', patience=5)\n",
        "adam = optimizers.Adam(lr = 0.0001)\n",
        "model1.compile(optimizer = adam, loss = mse, metrics = ['mae','mse'])\n",
        "'''fitting the model with 20% validation'''\n",
        "model1_train_history = model1.fit(x_train, y_train, batch_size=10, epochs=100, validation_split = 0.2, callbacks = [callback])"
      ],
      "execution_count": 57,
      "outputs": [
        {
          "output_type": "stream",
          "text": [
            "Train on 2118 samples, validate on 530 samples\n",
            "Epoch 1/100\n",
            "2118/2118 [==============================] - 2s 841us/step - loss: 513.2078 - mae: 11.8270 - mse: 513.2080 - val_loss: 27.8162 - val_mae: 3.6852 - val_mse: 27.8162\n",
            "Epoch 2/100\n",
            "2118/2118 [==============================] - 2s 755us/step - loss: 59.8851 - mae: 5.6708 - mse: 59.8851 - val_loss: 22.1142 - val_mae: 3.2087 - val_mse: 22.1142\n",
            "Epoch 3/100\n",
            "2118/2118 [==============================] - 2s 771us/step - loss: 53.6701 - mae: 5.3735 - mse: 53.6701 - val_loss: 16.2871 - val_mae: 2.7469 - val_mse: 16.2871\n",
            "Epoch 4/100\n",
            "2118/2118 [==============================] - 2s 755us/step - loss: 50.4273 - mae: 5.2479 - mse: 50.4273 - val_loss: 13.2344 - val_mae: 2.4511 - val_mse: 13.2344\n",
            "Epoch 5/100\n",
            "2118/2118 [==============================] - 2s 779us/step - loss: 42.8416 - mae: 4.7690 - mse: 42.8416 - val_loss: 13.4950 - val_mae: 2.6852 - val_mse: 13.4950\n",
            "Epoch 6/100\n",
            "2118/2118 [==============================] - 2s 777us/step - loss: 41.1045 - mae: 4.7350 - mse: 41.1045 - val_loss: 11.8714 - val_mae: 2.4289 - val_mse: 11.8714\n",
            "Epoch 7/100\n",
            "2118/2118 [==============================] - 2s 763us/step - loss: 37.2064 - mae: 4.4450 - mse: 37.2064 - val_loss: 16.7561 - val_mae: 3.3284 - val_mse: 16.7561\n",
            "Epoch 8/100\n",
            "2118/2118 [==============================] - 2s 780us/step - loss: 34.8272 - mae: 4.2271 - mse: 34.8272 - val_loss: 8.2053 - val_mae: 1.9064 - val_mse: 8.2053\n",
            "Epoch 9/100\n",
            "2118/2118 [==============================] - 2s 756us/step - loss: 32.7142 - mae: 4.1114 - mse: 32.7142 - val_loss: 8.7891 - val_mae: 2.1058 - val_mse: 8.7891\n",
            "Epoch 10/100\n",
            "2118/2118 [==============================] - 2s 758us/step - loss: 30.1204 - mae: 3.9336 - mse: 30.1204 - val_loss: 10.1654 - val_mae: 2.4966 - val_mse: 10.1654\n",
            "Epoch 11/100\n",
            "2118/2118 [==============================] - 2s 771us/step - loss: 29.8696 - mae: 3.9767 - mse: 29.8696 - val_loss: 9.1453 - val_mae: 2.3313 - val_mse: 9.1453\n",
            "Epoch 12/100\n",
            "2118/2118 [==============================] - 2s 763us/step - loss: 29.7620 - mae: 3.9197 - mse: 29.7620 - val_loss: 18.8225 - val_mae: 3.7054 - val_mse: 18.8225\n",
            "Epoch 13/100\n",
            "2118/2118 [==============================] - 2s 755us/step - loss: 24.8967 - mae: 3.6735 - mse: 24.8967 - val_loss: 8.6769 - val_mae: 2.3610 - val_mse: 8.6769\n"
          ],
          "name": "stdout"
        }
      ]
    },
    {
      "cell_type": "code",
      "metadata": {
        "id": "vTYXFG1Lwau0",
        "colab_type": "code",
        "outputId": "77aa87d2-154c-482e-e869-d0f7b971fa6f",
        "colab": {
          "base_uri": "https://localhost:8080/",
          "height": 329
        }
      },
      "source": [
        "ypred_model1 = model1.predict(x_train)\n",
        "yhat_model1 = model1.predict(x_test)\n",
        "plt.subplot(1,2,1)\n",
        "plt.scatter(x_train['Male Census'], ypred_model1, s=5, color = 'b', label ='predicted')\n",
        "plt.scatter(x_train['Male Census'], y_train,s=5, color = 'g', label = 'true value')\n",
        "plt.title('Train: true vs prediction'), plt.xlabel('Male Census'), plt.ylabel('2Layers DNN: End Census')\n",
        "plt.legend(loc = 4)\n",
        "plt.subplot(1,2,2)\n",
        "plt.scatter(x_test['Male Census'], yhat_model1,s=5, color = 'b', label ='predicted')\n",
        "plt.scatter(x_test['Male Census'], y_test,s=5, color = 'g', label = 'true value')\n",
        "plt.title('Test: true vs prediction')\n",
        "plt.legend(loc = 4)\n",
        "print('Rsquared score on train is:',r2_score(y_train, ypred_model1))\n",
        "print('Rsquared score on test is:',r2_score(y_test, yhat_model1))"
      ],
      "execution_count": 58,
      "outputs": [
        {
          "output_type": "stream",
          "text": [
            "Rsquared score on train is: 0.9968156079036188\n",
            "Rsquared score on test is: 0.9947972607054482\n"
          ],
          "name": "stdout"
        },
        {
          "output_type": "display_data",
          "data": {
            "image/png": "[encoded data removed]",
            "text/plain": [
              "<Figure size 432x288 with 2 Axes>"
            ]
          },
          "metadata": {
            "tags": [],
            "needs_background": "light"
          }
        }
      ]
    },
    {
      "cell_type": "code",
      "metadata": {
        "id": "spJCywoNwau4",
        "colab_type": "code",
        "outputId": "013ad16e-6640-426b-adc7-e30f66fa63d1",
        "colab": {
          "base_uri": "https://localhost:8080/",
          "height": 297
        }
      },
      "source": [
        "plt.subplot(2,1,1)\n",
        "plt.plot(range(len(model1_train_history.history['val_loss'])),model1_train_history.history['val_loss'],'-o', label = 'val_loss')\n",
        "plt.plot(range(len(model1_train_history.history['loss'])),model1_train_history.history['loss'],'-o', label = 'train_loss')\n",
        "plt.legend(loc = 'center right', fontsize = 10)\n",
        "plt.ylabel('MSE'), plt.title('2Layer DNN Loss')\n",
        "plt.subplot(2,1,2)\n",
        "plt.plot(range(len(model1_train_history.history['val_mae'])),model1_train_history.history['val_mae'],'-o', label = 'validation MAE')\n",
        "plt.plot(range(len(model1_train_history.history['mae'])),model1_train_history.history['mae'],'-o', label = 'train MAE')\n",
        "plt.legend(loc = 'center right', fontsize = 10)\n",
        "plt.ylabel('MAE')"
      ],
      "execution_count": 54,
      "outputs": [
        {
          "output_type": "execute_result",
          "data": {
            "text/plain": [
              "Text(0, 0.5, 'MAE')"
            ]
          },
          "metadata": {
            "tags": []
          },
          "execution_count": 54
        },
        {
          "output_type": "display_data",
          "data": {
            "image/png": "[encoded data removed]",
            "text/plain": [
              "<Figure size 432x288 with 2 Axes>"
            ]
          },
          "metadata": {
            "tags": [],
            "needs_background": "light"
          }
        }
      ]
    },
    {
      "cell_type": "markdown",
      "metadata": {
        "id": "bKkp3v0Qwau8",
        "colab_type": "text"
      },
      "source": [
        "### 3 Layers Deep Neural Network"
      ]
    },
    {
      "cell_type": "code",
      "metadata": {
        "id": "cyrsJMfZwau9",
        "colab_type": "code",
        "outputId": "2d0526a2-a104-49f0-c39d-fa2557fb02ac",
        "colab": {
          "base_uri": "https://localhost:8080/",
          "height": 418
        }
      },
      "source": [
        "X = Input(shape = (8,)) \n",
        "layer1 = Dense(128, activation = 'relu')(X)\n",
        "drop1 = Dropout(0.2)(layer1)\n",
        "layer2 = Dense(32, activation = 'relu')(drop1)\n",
        "drop2 = Dropout(0.2)(layer2)\n",
        "layer3 = Dense(8, activation = 'relu')(drop2)          # 3rd dense layer\n",
        "drop3 = Dropout(0.2)(layer3)                             # 3rd layer dropout\n",
        "layer4 = Dense(1, activation = 'linear')(drop3)\n",
        "model2 = Model(inputs = X, outputs = layer4)           #model\n",
        "model2.summary()"
      ],
      "execution_count": 60,
      "outputs": [
        {
          "output_type": "stream",
          "text": [
            "Model: \"model_3\"\n",
            "_________________________________________________________________\n",
            "Layer (type)                 Output Shape              Param #   \n",
            "=================================================================\n",
            "input_3 (InputLayer)         (None, 8)                 0         \n",
            "_________________________________________________________________\n",
            "dense_7 (Dense)              (None, 128)               1152      \n",
            "_________________________________________________________________\n",
            "dropout_5 (Dropout)          (None, 128)               0         \n",
            "_________________________________________________________________\n",
            "dense_8 (Dense)              (None, 32)                4128      \n",
            "_________________________________________________________________\n",
            "dropout_6 (Dropout)          (None, 32)                0         \n",
            "_________________________________________________________________\n",
            "dense_9 (Dense)              (None, 8)                 264       \n",
            "_________________________________________________________________\n",
            "dropout_7 (Dropout)          (None, 8)                 0         \n",
            "_________________________________________________________________\n",
            "dense_10 (Dense)             (None, 1)                 9         \n",
            "=================================================================\n",
            "Total params: 5,553\n",
            "Trainable params: 5,553\n",
            "Non-trainable params: 0\n",
            "_________________________________________________________________\n"
          ],
          "name": "stdout"
        }
      ]
    },
    {
      "cell_type": "code",
      "metadata": {
        "scrolled": true,
        "id": "wl2v0d5UwavC",
        "colab_type": "code",
        "outputId": "b4c90a18-1858-48fe-aade-6f46d7dd800c",
        "colab": {
          "base_uri": "https://localhost:8080/",
          "height": 957
        }
      },
      "source": [
        "callback = EarlyStopping(monitor='val_loss', patience=10)\n",
        "adam = optimizers.Adam(lr = 0.00005)\n",
        "model2.compile(optimizer = adam, loss = mse, metrics=['mse', 'mae'])\n",
        "'''fit the model with 20% validation'''\n",
        "model2_train_history = model2.fit(x_train, y_train, batch_size=100, epochs=100, validation_split = 0.2, callbacks = [callback])"
      ],
      "execution_count": 67,
      "outputs": [
        {
          "output_type": "stream",
          "text": [
            "Train on 2118 samples, validate on 530 samples\n",
            "Epoch 1/100\n",
            "2118/2118 [==============================] - 0s 106us/step - loss: 1298.4681 - mse: 1298.4681 - mae: 25.7835 - val_loss: 194.5914 - val_mse: 194.5914 - val_mae: 11.9404\n",
            "Epoch 2/100\n",
            "2118/2118 [==============================] - 0s 23us/step - loss: 1230.9128 - mse: 1230.9126 - mae: 25.2209 - val_loss: 227.7666 - val_mse: 227.7666 - val_mae: 13.0089\n",
            "Epoch 3/100\n",
            "2118/2118 [==============================] - 0s 24us/step - loss: 1316.4129 - mse: 1316.4128 - mae: 25.8576 - val_loss: 184.7385 - val_mse: 184.7385 - val_mae: 11.6561\n",
            "Epoch 4/100\n",
            "2118/2118 [==============================] - 0s 23us/step - loss: 1290.1244 - mse: 1290.1244 - mae: 25.2835 - val_loss: 160.2692 - val_mse: 160.2692 - val_mae: 10.8671\n",
            "Epoch 5/100\n",
            "2118/2118 [==============================] - 0s 24us/step - loss: 1234.3833 - mse: 1234.3834 - mae: 25.3960 - val_loss: 173.0147 - val_mse: 173.0147 - val_mae: 11.3759\n",
            "Epoch 6/100\n",
            "2118/2118 [==============================] - 0s 24us/step - loss: 1405.5396 - mse: 1405.5394 - mae: 26.8854 - val_loss: 184.8604 - val_mse: 184.8604 - val_mae: 11.8046\n",
            "Epoch 7/100\n",
            "2118/2118 [==============================] - 0s 25us/step - loss: 1301.2830 - mse: 1301.2830 - mae: 25.9318 - val_loss: 157.0932 - val_mse: 157.0932 - val_mae: 10.8379\n",
            "Epoch 8/100\n",
            "2118/2118 [==============================] - 0s 24us/step - loss: 1248.5150 - mse: 1248.5151 - mae: 25.5466 - val_loss: 138.4330 - val_mse: 138.4330 - val_mae: 10.1710\n",
            "Epoch 9/100\n",
            "2118/2118 [==============================] - 0s 24us/step - loss: 1248.7762 - mse: 1248.7761 - mae: 25.5632 - val_loss: 196.1235 - val_mse: 196.1235 - val_mae: 12.2460\n",
            "Epoch 10/100\n",
            "2118/2118 [==============================] - 0s 24us/step - loss: 1270.2778 - mse: 1270.2777 - mae: 26.0791 - val_loss: 246.0075 - val_mse: 246.0075 - val_mae: 13.7184\n",
            "Epoch 11/100\n",
            "2118/2118 [==============================] - 0s 23us/step - loss: 1384.3996 - mse: 1384.3997 - mae: 26.1452 - val_loss: 212.3202 - val_mse: 212.3202 - val_mae: 12.6626\n",
            "Epoch 12/100\n",
            "2118/2118 [==============================] - 0s 23us/step - loss: 1249.7510 - mse: 1249.7512 - mae: 25.3560 - val_loss: 201.1325 - val_mse: 201.1325 - val_mae: 12.2895\n",
            "Epoch 13/100\n",
            "2118/2118 [==============================] - 0s 25us/step - loss: 1325.0243 - mse: 1325.0243 - mae: 26.0267 - val_loss: 164.9207 - val_mse: 164.9208 - val_mae: 11.0551\n",
            "Epoch 14/100\n",
            "2118/2118 [==============================] - 0s 25us/step - loss: 1355.2650 - mse: 1355.2649 - mae: 26.4744 - val_loss: 162.2890 - val_mse: 162.2890 - val_mae: 10.9477\n",
            "Epoch 15/100\n",
            "2118/2118 [==============================] - 0s 24us/step - loss: 1245.2883 - mse: 1245.2883 - mae: 25.6106 - val_loss: 158.2056 - val_mse: 158.2056 - val_mae: 10.8043\n",
            "Epoch 16/100\n",
            "2118/2118 [==============================] - 0s 27us/step - loss: 1355.6079 - mse: 1355.6078 - mae: 26.4707 - val_loss: 176.4451 - val_mse: 176.4451 - val_mae: 11.4473\n",
            "Epoch 17/100\n",
            "2118/2118 [==============================] - 0s 24us/step - loss: 1264.6142 - mse: 1264.6141 - mae: 25.5795 - val_loss: 127.0266 - val_mse: 127.0266 - val_mae: 9.6249\n",
            "Epoch 18/100\n",
            "2118/2118 [==============================] - 0s 25us/step - loss: 1322.1131 - mse: 1322.1132 - mae: 26.0360 - val_loss: 153.4641 - val_mse: 153.4641 - val_mae: 10.6605\n",
            "Epoch 19/100\n",
            "2118/2118 [==============================] - 0s 23us/step - loss: 1300.3039 - mse: 1300.3038 - mae: 25.7411 - val_loss: 155.7042 - val_mse: 155.7042 - val_mae: 10.7791\n",
            "Epoch 20/100\n",
            "2118/2118 [==============================] - 0s 24us/step - loss: 1333.0552 - mse: 1333.0552 - mae: 26.0652 - val_loss: 187.4111 - val_mse: 187.4111 - val_mae: 11.8759\n",
            "Epoch 21/100\n",
            "2118/2118 [==============================] - 0s 24us/step - loss: 1331.9299 - mse: 1331.9299 - mae: 25.9510 - val_loss: 165.8233 - val_mse: 165.8233 - val_mae: 11.1111\n",
            "Epoch 22/100\n",
            "2118/2118 [==============================] - 0s 21us/step - loss: 1303.7908 - mse: 1303.7909 - mae: 26.1576 - val_loss: 165.7944 - val_mse: 165.7944 - val_mae: 11.1437\n",
            "Epoch 23/100\n",
            "2118/2118 [==============================] - 0s 22us/step - loss: 1331.3774 - mse: 1331.3774 - mae: 25.6220 - val_loss: 186.5943 - val_mse: 186.5943 - val_mae: 11.8637\n",
            "Epoch 24/100\n",
            "2118/2118 [==============================] - 0s 22us/step - loss: 1228.7136 - mse: 1228.7136 - mae: 25.3456 - val_loss: 213.5333 - val_mse: 213.5333 - val_mae: 12.7419\n",
            "Epoch 25/100\n",
            "2118/2118 [==============================] - 0s 22us/step - loss: 1169.8300 - mse: 1169.8300 - mae: 24.7048 - val_loss: 179.4915 - val_mse: 179.4915 - val_mae: 11.6594\n",
            "Epoch 26/100\n",
            "2118/2118 [==============================] - 0s 21us/step - loss: 1233.4231 - mse: 1233.4232 - mae: 25.3402 - val_loss: 202.1837 - val_mse: 202.1837 - val_mae: 12.4115\n",
            "Epoch 27/100\n",
            "2118/2118 [==============================] - 0s 24us/step - loss: 1300.7392 - mse: 1300.7394 - mae: 25.7231 - val_loss: 192.5438 - val_mse: 192.5438 - val_mae: 12.1183\n"
          ],
          "name": "stdout"
        }
      ]
    },
    {
      "cell_type": "code",
      "metadata": {
        "scrolled": true,
        "id": "OXDZlNCuwavF",
        "colab_type": "code",
        "outputId": "b079ff1f-b12a-4e8b-c35b-d0b97217b72c",
        "colab": {
          "base_uri": "https://localhost:8080/",
          "height": 329
        }
      },
      "source": [
        "ypred_model2 = model2.predict(x_train)\n",
        "yhat_model2 = model2.predict(x_test)\n",
        "plt.xlabel('aa')\n",
        "plt.subplot(1,2,1)\n",
        "plt.scatter(x_train['Male Census'], ypred_model2,s=5, color = 'b', label ='predicted')\n",
        "plt.scatter(x_train['Male Census'], y_train,s=5, color = 'g', label = 'true value')\n",
        "plt.title('Train: true vs prediction')\n",
        "plt.legend(loc = 4), plt.ylabel('3Layers DNN: End Census'), plt.xlabel('Male Census')\n",
        "plt.subplot(1,2,2)\n",
        "plt.scatter(x_test['Male Census'], yhat_model2,s=5, color = 'b', label ='predicted')\n",
        "plt.scatter(x_test['Male Census'], y_test,s=5, color = 'g', label = 'true value')\n",
        "plt.title('Test: true vs prediction')\n",
        "plt.legend(loc = 4)\n",
        "print('Rsquared score on train is:',r2_score(y_train, ypred_model2))\n",
        "print('Rsquared score on test is:',r2_score(y_test, yhat_model2))"
      ],
      "execution_count": 68,
      "outputs": [
        {
          "output_type": "stream",
          "text": [
            "Rsquared score on train is: 0.9289232923499838\n",
            "Rsquared score on test is: 0.9218992683559227\n"
          ],
          "name": "stdout"
        },
        {
          "output_type": "display_data",
          "data": {
            "image/png": "[encoded data removed]",
            "text/plain": [
              "<Figure size 432x288 with 2 Axes>"
            ]
          },
          "metadata": {
            "tags": [],
            "needs_background": "light"
          }
        }
      ]
    },
    {
      "cell_type": "code",
      "metadata": {
        "id": "grJ8SVCkwavK",
        "colab_type": "code",
        "outputId": "f14bb4d2-c01f-48af-d38d-c71afe5017bf",
        "colab": {
          "base_uri": "https://localhost:8080/",
          "height": 297
        }
      },
      "source": [
        "plt.subplot(2,1,1)\n",
        "plt.plot(range(len(model2_train_history.history['val_loss'])),model2_train_history.history['val_loss'],'-o', label = 'val_loss')\n",
        "plt.plot(range(len(model2_train_history.history['loss'])),model2_train_history.history['loss'],'-o', label = 'train_loss')\n",
        "plt.legend(loc = 1, fontsize = 7)\n",
        "plt.ylabel('MSE'), plt.title('3Layers DNN Loss')\n",
        "plt.subplot(2,1,2)\n",
        "plt.plot(range(len(model2_train_history.history['val_mae'])),model2_train_history.history['val_mae'],'-o', label = 'validation MAE')\n",
        "plt.plot(range(len(model2_train_history.history['mae'])),model2_train_history.history['mae'],'-o', label = 'train MAE')\n",
        "plt.legend(loc = 1, fontsize = 7)\n",
        "plt.ylabel('MAE')\n",
        "print('Loss per epoch: 3 layers DNN:')"
      ],
      "execution_count": 69,
      "outputs": [
        {
          "output_type": "stream",
          "text": [
            "Loss per epoch: 3 layers DNN:\n"
          ],
          "name": "stdout"
        },
        {
          "output_type": "display_data",
          "data": {
            "image/png": "[encoded data removed]",
            "text/plain": [
              "<Figure size 432x288 with 2 Axes>"
            ]
          },
          "metadata": {
            "tags": [],
            "needs_background": "light"
          }
        }
      ]
    },
    {
      "cell_type": "markdown",
      "metadata": {
        "id": "EKCyl2ZfwavP",
        "colab_type": "text"
      },
      "source": [
        "### Changing Hyper-Parameters"
      ]
    },
    {
      "cell_type": "code",
      "metadata": {
        "id": "QLoykcXBwavP",
        "colab_type": "code",
        "outputId": "474481bd-0198-4055-e52e-83f09ad51904",
        "colab": {
          "base_uri": "https://localhost:8080/",
          "height": 318
        }
      },
      "source": [
        "'''simple 3 layers DNN'''\n",
        "X = Input(shape = (8,)) \n",
        "layer1 = Dense(256, activation = 'relu')(X)\n",
        "layer2 = Dense(128, activation = 'relu')(layer1)\n",
        "layer3 = Dense(64, activation = 'relu')(layer2)\n",
        "layer4 = Dense(1, activation = 'linear')(layer3)\n",
        "model = Model(inputs = X, outputs = layer4)\n",
        "model.summary()"
      ],
      "execution_count": 70,
      "outputs": [
        {
          "output_type": "stream",
          "text": [
            "Model: \"model_4\"\n",
            "_________________________________________________________________\n",
            "Layer (type)                 Output Shape              Param #   \n",
            "=================================================================\n",
            "input_4 (InputLayer)         (None, 8)                 0         \n",
            "_________________________________________________________________\n",
            "dense_11 (Dense)             (None, 256)               2304      \n",
            "_________________________________________________________________\n",
            "dense_12 (Dense)             (None, 128)               32896     \n",
            "_________________________________________________________________\n",
            "dense_13 (Dense)             (None, 64)                8256      \n",
            "_________________________________________________________________\n",
            "dense_14 (Dense)             (None, 1)                 65        \n",
            "=================================================================\n",
            "Total params: 43,521\n",
            "Trainable params: 43,521\n",
            "Non-trainable params: 0\n",
            "_________________________________________________________________\n"
          ],
          "name": "stdout"
        }
      ]
    },
    {
      "cell_type": "code",
      "metadata": {
        "scrolled": true,
        "id": "dPcNn__iwavS",
        "colab_type": "code",
        "outputId": "e5d31ba7-5c6f-4d63-b775-528514b1c714",
        "colab": {}
      },
      "source": [
        "learning_rates = [0.001,0.01,0.1]  # learning rates to iterate through\n",
        "sgd, adagrad = [], []             # solvers sets\n",
        "for r in learning_rates:\n",
        "    sgd.append(optimizers.SGD(r))\n",
        "    adagrad.append(optimizers.Adagrad(r))\n",
        "solvers = sgd + adagrad\n",
        "callback = EarlyStopping(monitor='val_loss', patience=10)\n",
        "model_train_history = []                                       # to store all the results at every fit\n",
        "\n",
        "'''fit for all the hyperparameters'''\n",
        "for s in solvers:\n",
        "    model.compile(optimizer = s, loss = mse, metrics=['mse', 'mae'])\n",
        "    model_train_history.append(model.fit(x_train, y_train, batch_size=10, epochs=100, validation_split = 0.2, callbacks = [callback]))"
      ],
      "execution_count": 0,
      "outputs": [
        {
          "output_type": "stream",
          "text": [
            "Train on 2118 samples, validate on 530 samples\n",
            "Epoch 1/100\n",
            "2118/2118 [==============================] - 0s 132us/step - loss: nan - mse: nan - mae: nan - val_loss: nan - val_mse: nan - val_mae: nan\n",
            "Epoch 2/100\n",
            "2118/2118 [==============================] - 0s 113us/step - loss: nan - mse: nan - mae: nan - val_loss: nan - val_mse: nan - val_mae: nan\n",
            "Epoch 3/100\n",
            "2118/2118 [==============================] - 0s 106us/step - loss: nan - mse: nan - mae: nan - val_loss: nan - val_mse: nan - val_mae: nan\n",
            "Epoch 4/100\n",
            "2118/2118 [==============================] - 0s 121us/step - loss: nan - mse: nan - mae: nan - val_loss: nan - val_mse: nan - val_mae: nan\n",
            "Epoch 5/100\n",
            "2118/2118 [==============================] - 0s 117us/step - loss: nan - mse: nan - mae: nan - val_loss: nan - val_mse: nan - val_mae: nan\n",
            "Epoch 6/100\n",
            "2118/2118 [==============================] - 0s 100us/step - loss: nan - mse: nan - mae: nan - val_loss: nan - val_mse: nan - val_mae: nan\n",
            "Epoch 7/100\n",
            "2118/2118 [==============================] - 0s 107us/step - loss: nan - mse: nan - mae: nan - val_loss: nan - val_mse: nan - val_mae: nan\n",
            "Epoch 8/100\n",
            "2118/2118 [==============================] - 0s 101us/step - loss: nan - mse: nan - mae: nan - val_loss: nan - val_mse: nan - val_mae: nan\n",
            "Epoch 9/100\n",
            "2118/2118 [==============================] - 0s 97us/step - loss: nan - mse: nan - mae: nan - val_loss: nan - val_mse: nan - val_mae: nan\n",
            "Epoch 10/100\n",
            "2118/2118 [==============================] - 0s 112us/step - loss: nan - mse: nan - mae: nan - val_loss: nan - val_mse: nan - val_mae: nan\n",
            "Train on 2118 samples, validate on 530 samples\n",
            "Epoch 1/100\n",
            "2118/2118 [==============================] - 0s 142us/step - loss: nan - mse: nan - mae: nan - val_loss: nan - val_mse: nan - val_mae: nan\n",
            "Epoch 2/100\n",
            "2118/2118 [==============================] - 0s 120us/step - loss: nan - mse: nan - mae: nan - val_loss: nan - val_mse: nan - val_mae: nan\n",
            "Epoch 3/100\n",
            "2118/2118 [==============================] - 0s 114us/step - loss: nan - mse: nan - mae: nan - val_loss: nan - val_mse: nan - val_mae: nan\n",
            "Epoch 4/100\n",
            "2118/2118 [==============================] - 0s 99us/step - loss: nan - mse: nan - mae: nan - val_loss: nan - val_mse: nan - val_mae: nan\n",
            "Epoch 5/100\n",
            "2118/2118 [==============================] - 0s 102us/step - loss: nan - mse: nan - mae: nan - val_loss: nan - val_mse: nan - val_mae: nan\n",
            "Epoch 6/100\n",
            "2118/2118 [==============================] - 0s 101us/step - loss: nan - mse: nan - mae: nan - val_loss: nan - val_mse: nan - val_mae: nan\n",
            "Epoch 7/100\n",
            "2118/2118 [==============================] - 0s 99us/step - loss: nan - mse: nan - mae: nan - val_loss: nan - val_mse: nan - val_mae: nan\n",
            "Epoch 8/100\n",
            "2118/2118 [==============================] - 0s 99us/step - loss: nan - mse: nan - mae: nan - val_loss: nan - val_mse: nan - val_mae: nan\n",
            "Epoch 9/100\n",
            "2118/2118 [==============================] - 0s 100us/step - loss: nan - mse: nan - mae: nan - val_loss: nan - val_mse: nan - val_mae: nan\n",
            "Epoch 10/100\n",
            "2118/2118 [==============================] - 0s 115us/step - loss: nan - mse: nan - mae: nan - val_loss: nan - val_mse: nan - val_mae: nan\n",
            "Train on 2118 samples, validate on 530 samples\n",
            "Epoch 1/100\n",
            "2118/2118 [==============================] - 0s 164us/step - loss: nan - mse: nan - mae: nan - val_loss: nan - val_mse: nan - val_mae: nan\n",
            "Epoch 2/100\n",
            "2118/2118 [==============================] - 0s 123us/step - loss: nan - mse: nan - mae: nan - val_loss: nan - val_mse: nan - val_mae: nan\n",
            "Epoch 3/100\n",
            "2118/2118 [==============================] - 0s 125us/step - loss: nan - mse: nan - mae: nan - val_loss: nan - val_mse: nan - val_mae: nan\n",
            "Epoch 4/100\n",
            "2118/2118 [==============================] - 0s 93us/step - loss: nan - mse: nan - mae: nan - val_loss: nan - val_mse: nan - val_mae: nan\n",
            "Epoch 5/100\n",
            "2118/2118 [==============================] - 0s 126us/step - loss: nan - mse: nan - mae: nan - val_loss: nan - val_mse: nan - val_mae: nan\n",
            "Epoch 6/100\n",
            "2118/2118 [==============================] - 0s 107us/step - loss: nan - mse: nan - mae: nan - val_loss: nan - val_mse: nan - val_mae: nan\n",
            "Epoch 7/100\n",
            "2118/2118 [==============================] - 0s 128us/step - loss: nan - mse: nan - mae: nan - val_loss: nan - val_mse: nan - val_mae: nan\n",
            "Epoch 8/100\n",
            "2118/2118 [==============================] - 0s 130us/step - loss: nan - mse: nan - mae: nan - val_loss: nan - val_mse: nan - val_mae: nan\n",
            "Epoch 9/100\n",
            "2118/2118 [==============================] - 0s 115us/step - loss: nan - mse: nan - mae: nan - val_loss: nan - val_mse: nan - val_mae: nan\n",
            "Epoch 10/100\n",
            "2118/2118 [==============================] - 0s 119us/step - loss: nan - mse: nan - mae: nan - val_loss: nan - val_mse: nan - val_mae: nan\n",
            "Train on 2118 samples, validate on 530 samples\n",
            "Epoch 1/100\n",
            "2118/2118 [==============================] - 0s 138us/step - loss: nan - mse: nan - mae: nan - val_loss: nan - val_mse: nan - val_mae: nan\n",
            "Epoch 2/100\n",
            "2118/2118 [==============================] - 0s 119us/step - loss: nan - mse: nan - mae: nan - val_loss: nan - val_mse: nan - val_mae: nan\n",
            "Epoch 3/100\n",
            "2118/2118 [==============================] - 0s 124us/step - loss: nan - mse: nan - mae: nan - val_loss: nan - val_mse: nan - val_mae: nan\n",
            "Epoch 4/100\n",
            "2118/2118 [==============================] - ETA: 0s - loss: nan - mse: nan - mae: n - 0s 113us/step - loss: nan - mse: nan - mae: nan - val_loss: nan - val_mse: nan - val_mae: nan\n",
            "Epoch 5/100\n",
            "2118/2118 [==============================] - 0s 115us/step - loss: nan - mse: nan - mae: nan - val_loss: nan - val_mse: nan - val_mae: nan\n",
            "Epoch 6/100\n",
            "2118/2118 [==============================] - 0s 94us/step - loss: nan - mse: nan - mae: nan - val_loss: nan - val_mse: nan - val_mae: nan\n",
            "Epoch 7/100\n",
            "2118/2118 [==============================] - 0s 101us/step - loss: nan - mse: nan - mae: nan - val_loss: nan - val_mse: nan - val_mae: nan\n",
            "Epoch 8/100\n",
            "2118/2118 [==============================] - 0s 104us/step - loss: nan - mse: nan - mae: nan - val_loss: nan - val_mse: nan - val_mae: nan\n",
            "Epoch 9/100\n",
            "2118/2118 [==============================] - 0s 100us/step - loss: nan - mse: nan - mae: nan - val_loss: nan - val_mse: nan - val_mae: nan\n",
            "Epoch 10/100\n",
            "2118/2118 [==============================] - 0s 100us/step - loss: nan - mse: nan - mae: nan - val_loss: nan - val_mse: nan - val_mae: nan\n",
            "Train on 2118 samples, validate on 530 samples\n",
            "Epoch 1/100\n",
            "2118/2118 [==============================] - 0s 136us/step - loss: nan - mse: nan - mae: nan - val_loss: nan - val_mse: nan - val_mae: nan\n",
            "Epoch 2/100\n",
            "2118/2118 [==============================] - 0s 106us/step - loss: nan - mse: nan - mae: nan - val_loss: nan - val_mse: nan - val_mae: nan\n",
            "Epoch 3/100\n",
            "2118/2118 [==============================] - 0s 105us/step - loss: nan - mse: nan - mae: nan - val_loss: nan - val_mse: nan - val_mae: nan\n",
            "Epoch 4/100\n",
            "2118/2118 [==============================] - 0s 104us/step - loss: nan - mse: nan - mae: nan - val_loss: nan - val_mse: nan - val_mae: nan\n",
            "Epoch 5/100\n",
            "2118/2118 [==============================] - 0s 100us/step - loss: nan - mse: nan - mae: nan - val_loss: nan - val_mse: nan - val_mae: nan\n",
            "Epoch 6/100\n",
            "2118/2118 [==============================] - 0s 100us/step - loss: nan - mse: nan - mae: nan - val_loss: nan - val_mse: nan - val_mae: nan\n",
            "Epoch 7/100\n",
            "2118/2118 [==============================] - 0s 97us/step - loss: nan - mse: nan - mae: nan - val_loss: nan - val_mse: nan - val_mae: nan\n",
            "Epoch 8/100\n",
            "2118/2118 [==============================] - 0s 100us/step - loss: nan - mse: nan - mae: nan - val_loss: nan - val_mse: nan - val_mae: nan\n",
            "Epoch 9/100\n",
            "2118/2118 [==============================] - 0s 96us/step - loss: nan - mse: nan - mae: nan - val_loss: nan - val_mse: nan - val_mae: nan\n",
            "Epoch 10/100\n",
            "2118/2118 [==============================] - 0s 101us/step - loss: nan - mse: nan - mae: nan - val_loss: nan - val_mse: nan - val_mae: nan\n",
            "Train on 2118 samples, validate on 530 samples\n",
            "Epoch 1/100\n",
            "2118/2118 [==============================] - 0s 157us/step - loss: nan - mse: nan - mae: nan - val_loss: nan - val_mse: nan - val_mae: nan\n",
            "Epoch 2/100\n",
            "2118/2118 [==============================] - 0s 124us/step - loss: nan - mse: nan - mae: nan - val_loss: nan - val_mse: nan - val_mae: nan\n",
            "Epoch 3/100\n"
          ],
          "name": "stdout"
        },
        {
          "output_type": "stream",
          "text": [
            "2118/2118 [==============================] - 0s 108us/step - loss: nan - mse: nan - mae: nan - val_loss: nan - val_mse: nan - val_mae: nan\n",
            "Epoch 4/100\n",
            "2118/2118 [==============================] - 0s 107us/step - loss: nan - mse: nan - mae: nan - val_loss: nan - val_mse: nan - val_mae: nan\n",
            "Epoch 5/100\n",
            "2118/2118 [==============================] - 0s 106us/step - loss: nan - mse: nan - mae: nan - val_loss: nan - val_mse: nan - val_mae: nan\n",
            "Epoch 6/100\n",
            "2118/2118 [==============================] - 0s 97us/step - loss: nan - mse: nan - mae: nan - val_loss: nan - val_mse: nan - val_mae: nan\n",
            "Epoch 7/100\n",
            "2118/2118 [==============================] - 0s 97us/step - loss: nan - mse: nan - mae: nan - val_loss: nan - val_mse: nan - val_mae: nan\n",
            "Epoch 8/100\n",
            "2118/2118 [==============================] - 0s 95us/step - loss: nan - mse: nan - mae: nan - val_loss: nan - val_mse: nan - val_mae: nan\n",
            "Epoch 9/100\n",
            "2118/2118 [==============================] - 0s 97us/step - loss: nan - mse: nan - mae: nan - val_loss: nan - val_mse: nan - val_mae: nan\n",
            "Epoch 10/100\n",
            "2118/2118 [==============================] - 0s 97us/step - loss: nan - mse: nan - mae: nan - val_loss: nan - val_mse: nan - val_mae: nan\n"
          ],
          "name": "stdout"
        }
      ]
    },
    {
      "cell_type": "code",
      "metadata": {
        "id": "Os1Ol40gwavV",
        "colab_type": "code",
        "colab": {}
      },
      "source": [
        ""
      ],
      "execution_count": 0,
      "outputs": []
    },
    {
      "cell_type": "code",
      "metadata": {
        "id": "SYkZYSGcwavY",
        "colab_type": "code",
        "colab": {}
      },
      "source": [
        ""
      ],
      "execution_count": 0,
      "outputs": []
    }
  ]
}